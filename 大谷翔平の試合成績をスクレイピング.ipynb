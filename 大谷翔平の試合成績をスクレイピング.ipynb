{
 "cells": [
  {
   "cell_type": "markdown",
   "id": "2c842c71-3880-4af4-9c60-9f544cb285ca",
   "metadata": {},
   "source": [
    "# ライブラリ"
   ]
  },
  {
   "cell_type": "code",
   "execution_count": 1,
   "id": "0c0b487b-14c6-4347-8337-1f1365a2a14d",
   "metadata": {},
   "outputs": [],
   "source": [
    "import pandas as pd"
   ]
  },
  {
   "cell_type": "code",
   "execution_count": 9,
   "id": "d8fdbeea-134d-471c-9587-bc5cdae3e7f8",
   "metadata": {},
   "outputs": [],
   "source": [
    "# scrapeという関数の作成\n",
    "def scrape(url):\n",
    "    df = pd.DataFrame()\n",
    "    data = pd.read_html(url) # url先のtd情報をリスト形式で格納\n",
    "    \n",
    "    for i in range(3, len(data)):\n",
    "        d = data[i] # リストに入ってる成績データを取り出す\n",
    "        d.dropna(inplace=True) # inplace=元のdfを変更\n",
    "        d = d[:-1] #各データ末尾が月の集計値になっているので[:-1]で末尾を削る\n",
    "        df = pd.concat([df, d]) # 結合\n",
    "        \n",
    "    # 結合後の処理\n",
    "    df.reset_index(inplace=True, drop=True)\n",
    "    df.reset_index(inplace=True) # 列にindex列を作る\n",
    "    df['日付'] = pd.to_datetime('2021' + '/' + df['日付'], format='%Y/%m/%d')\n",
    "    df.rename(columns={'index':'試合数'}, inplace=True)\n",
    "    df['試合数'] = df['試合数']+1 # indexの値が0から始まるため1足して、何試合目か正確な値にする\n",
    "    return df"
   ]
  },
  {
   "cell_type": "code",
   "execution_count": 10,
   "id": "f2cd942f-c7ae-4c90-9e8b-c7b8f5ed5a9e",
   "metadata": {},
   "outputs": [],
   "source": [
    "if __name__ == '__main__':\n",
    "    url = 'https://baseball.yahoo.co.jp/mlb/teams/player/fielder/stats/727378'\n",
    "    df = scrape(url)\n",
    "    df.to_csv('ootani_san_season2022.csv', index=False)"
   ]
  },
  {
   "cell_type": "code",
   "execution_count": null,
   "id": "302dbc36-f405-4547-88ba-c83cf5f4624d",
   "metadata": {},
   "outputs": [],
   "source": []
  },
  {
   "cell_type": "code",
   "execution_count": null,
   "id": "1f715c69-924e-4554-9756-c898abbf829a",
   "metadata": {},
   "outputs": [],
   "source": []
  },
  {
   "cell_type": "code",
   "execution_count": null,
   "id": "42827734-bff8-4691-b265-7fb824797ce6",
   "metadata": {},
   "outputs": [],
   "source": []
  },
  {
   "cell_type": "code",
   "execution_count": null,
   "id": "1872f2ed-a3ab-418f-92f5-8d55cba0f08a",
   "metadata": {},
   "outputs": [],
   "source": []
  }
 ],
 "metadata": {
  "kernelspec": {
   "display_name": "Python 3 (ipykernel)",
   "language": "python",
   "name": "python3"
  },
  "language_info": {
   "codemirror_mode": {
    "name": "ipython",
    "version": 3
   },
   "file_extension": ".py",
   "mimetype": "text/x-python",
   "name": "python",
   "nbconvert_exporter": "python",
   "pygments_lexer": "ipython3",
   "version": "3.9.7"
  }
 },
 "nbformat": 4,
 "nbformat_minor": 5
}
