{
 "cells": [
  {
   "cell_type": "code",
   "execution_count": 1,
   "id": "dd6d78e0-bc73-4d41-9336-2edc0378ce76",
   "metadata": {},
   "outputs": [],
   "source": [
    "# ライブラリ\n",
    "import urllib  #HTMLにアクセス＆取得\n",
    "from bs4 import BeautifulSoup #HTMLからデータ抽出\n",
    "import pandas as pd\n",
    "import numpy as np\n",
    "from sklearn.model_selection import train_test_split\n",
    "from sklearn.linear_model import LinearRegression as LR\n",
    "from sklearn.metrics import mean_squared_error as MSE\n",
    "import matplotlib.pyplot as plt"
   ]
  },
  {
   "cell_type": "code",
   "execution_count": 2,
   "id": "c1bded19-99d7-43b5-897f-b571b2780eb6",
   "metadata": {},
   "outputs": [],
   "source": [
    "# スクレイピング\n",
    "url = 'https://baseball-data.com/stats/hitter-all/hr-2.html'\n",
    "html = urllib.request.urlopen(url)\n",
    "soup = BeautifulSoup(html, 'html.parser')"
   ]
  },
  {
   "cell_type": "code",
   "execution_count": 3,
   "id": "e55cf59d-c59e-482b-9062-fbac0dadeac8",
   "metadata": {},
   "outputs": [],
   "source": [
    "table = soup.find_all('table')[0] # HTMLから表部分を全て取得\n",
    "rows = table.find_all('tr') # 表から行データを取得"
   ]
  },
  {
   "cell_type": "code",
   "execution_count": 4,
   "id": "51ccf408-34e0-4f67-9f2b-19034189afe5",
   "metadata": {},
   "outputs": [],
   "source": [
    "# データ格納\n",
    "head_data = []\n",
    "player_data = []\n",
    "\n",
    "for i, row in enumerate(rows):\n",
    "    if i == 0: # 1行目\n",
    "        for headerValue in row.find_all('th'):\n",
    "            head_data.append(headerValue.get_text())\n",
    "    elif (i > 0) and (i + 1 < len(rows)): # 2行目〜最終行未満\n",
    "        player_row = []\n",
    "        for playerValue in row.find_all('td'):\n",
    "            player_row.append(playerValue.get_text())\n",
    "        player_data.append(player_row)"
   ]
  },
  {
   "cell_type": "code",
   "execution_count": 6,
   "id": "754ab747-3ced-47e2-9157-4ec8d7c4baaa",
   "metadata": {},
   "outputs": [
    {
     "data": {
      "text/html": [
       "<div>\n",
       "<style scoped>\n",
       "    .dataframe tbody tr th:only-of-type {\n",
       "        vertical-align: middle;\n",
       "    }\n",
       "\n",
       "    .dataframe tbody tr th {\n",
       "        vertical-align: top;\n",
       "    }\n",
       "\n",
       "    .dataframe thead th {\n",
       "        text-align: right;\n",
       "    }\n",
       "</style>\n",
       "<table border=\"1\" class=\"dataframe\">\n",
       "  <thead>\n",
       "    <tr style=\"text-align: right;\">\n",
       "      <th></th>\n",
       "      <th>順位</th>\n",
       "      <th>選手名</th>\n",
       "      <th>チーム</th>\n",
       "      <th>打率</th>\n",
       "      <th>試合</th>\n",
       "      <th>打席数</th>\n",
       "      <th>打数</th>\n",
       "      <th>安打</th>\n",
       "      <th>本塁打</th>\n",
       "      <th>打点</th>\n",
       "      <th>...</th>\n",
       "      <th>四球</th>\n",
       "      <th>死球</th>\n",
       "      <th>三振</th>\n",
       "      <th>犠打</th>\n",
       "      <th>併殺打</th>\n",
       "      <th>出塁率</th>\n",
       "      <th>長打率</th>\n",
       "      <th>OPS</th>\n",
       "      <th>RC27</th>\n",
       "      <th>XR27</th>\n",
       "    </tr>\n",
       "  </thead>\n",
       "  <tbody>\n",
       "    <tr>\n",
       "      <th>0</th>\n",
       "      <td>1</td>\n",
       "      <td>岡本　和真</td>\n",
       "      <td>巨人</td>\n",
       "      <td>.297</td>\n",
       "      <td>83</td>\n",
       "      <td>349</td>\n",
       "      <td>296</td>\n",
       "      <td>88</td>\n",
       "      <td>20</td>\n",
       "      <td>51</td>\n",
       "      <td>...</td>\n",
       "      <td>44</td>\n",
       "      <td>5</td>\n",
       "      <td>64</td>\n",
       "      <td>0</td>\n",
       "      <td>7</td>\n",
       "      <td>.393</td>\n",
       "      <td>.557</td>\n",
       "      <td>.950</td>\n",
       "      <td>7.71</td>\n",
       "      <td>7.64</td>\n",
       "    </tr>\n",
       "    <tr>\n",
       "      <th>1</th>\n",
       "      <td>2</td>\n",
       "      <td>浅村　栄斗</td>\n",
       "      <td>楽天</td>\n",
       "      <td>.271</td>\n",
       "      <td>83</td>\n",
       "      <td>345</td>\n",
       "      <td>306</td>\n",
       "      <td>83</td>\n",
       "      <td>18</td>\n",
       "      <td>50</td>\n",
       "      <td>...</td>\n",
       "      <td>37</td>\n",
       "      <td>1</td>\n",
       "      <td>62</td>\n",
       "      <td>0</td>\n",
       "      <td>6</td>\n",
       "      <td>.351</td>\n",
       "      <td>.490</td>\n",
       "      <td>.841</td>\n",
       "      <td>6.13</td>\n",
       "      <td>6.09</td>\n",
       "    </tr>\n",
       "    <tr>\n",
       "      <th>2</th>\n",
       "      <td>3</td>\n",
       "      <td>村上　宗隆</td>\n",
       "      <td>ヤクルト</td>\n",
       "      <td>.242</td>\n",
       "      <td>83</td>\n",
       "      <td>351</td>\n",
       "      <td>293</td>\n",
       "      <td>71</td>\n",
       "      <td>16</td>\n",
       "      <td>49</td>\n",
       "      <td>...</td>\n",
       "      <td>50</td>\n",
       "      <td>5</td>\n",
       "      <td>109</td>\n",
       "      <td>0</td>\n",
       "      <td>2</td>\n",
       "      <td>.359</td>\n",
       "      <td>.451</td>\n",
       "      <td>.809</td>\n",
       "      <td>5.81</td>\n",
       "      <td>5.96</td>\n",
       "    </tr>\n",
       "    <tr>\n",
       "      <th>3</th>\n",
       "      <td>3</td>\n",
       "      <td>牧　秀悟</td>\n",
       "      <td>DeNA</td>\n",
       "      <td>.283</td>\n",
       "      <td>83</td>\n",
       "      <td>350</td>\n",
       "      <td>325</td>\n",
       "      <td>92</td>\n",
       "      <td>16</td>\n",
       "      <td>56</td>\n",
       "      <td>...</td>\n",
       "      <td>18</td>\n",
       "      <td>4</td>\n",
       "      <td>60</td>\n",
       "      <td>0</td>\n",
       "      <td>9</td>\n",
       "      <td>.326</td>\n",
       "      <td>.498</td>\n",
       "      <td>.824</td>\n",
       "      <td>5.43</td>\n",
       "      <td>5.37</td>\n",
       "    </tr>\n",
       "    <tr>\n",
       "      <th>4</th>\n",
       "      <td>5</td>\n",
       "      <td>万波　中正</td>\n",
       "      <td>日本ハム</td>\n",
       "      <td>.262</td>\n",
       "      <td>83</td>\n",
       "      <td>335</td>\n",
       "      <td>309</td>\n",
       "      <td>81</td>\n",
       "      <td>15</td>\n",
       "      <td>42</td>\n",
       "      <td>...</td>\n",
       "      <td>19</td>\n",
       "      <td>3</td>\n",
       "      <td>77</td>\n",
       "      <td>2</td>\n",
       "      <td>6</td>\n",
       "      <td>.309</td>\n",
       "      <td>.482</td>\n",
       "      <td>.792</td>\n",
       "      <td>5.06</td>\n",
       "      <td>5.01</td>\n",
       "    </tr>\n",
       "    <tr>\n",
       "      <th>5</th>\n",
       "      <td>6</td>\n",
       "      <td>柳田　悠岐</td>\n",
       "      <td>ソフトバンク</td>\n",
       "      <td>.305</td>\n",
       "      <td>82</td>\n",
       "      <td>357</td>\n",
       "      <td>302</td>\n",
       "      <td>92</td>\n",
       "      <td>14</td>\n",
       "      <td>48</td>\n",
       "      <td>...</td>\n",
       "      <td>44</td>\n",
       "      <td>8</td>\n",
       "      <td>56</td>\n",
       "      <td>0</td>\n",
       "      <td>4</td>\n",
       "      <td>.403</td>\n",
       "      <td>.510</td>\n",
       "      <td>.913</td>\n",
       "      <td>7.85</td>\n",
       "      <td>7.69</td>\n",
       "    </tr>\n",
       "    <tr>\n",
       "      <th>6</th>\n",
       "      <td>6</td>\n",
       "      <td>オスナ</td>\n",
       "      <td>ヤクルト</td>\n",
       "      <td>.248</td>\n",
       "      <td>83</td>\n",
       "      <td>334</td>\n",
       "      <td>298</td>\n",
       "      <td>74</td>\n",
       "      <td>14</td>\n",
       "      <td>43</td>\n",
       "      <td>...</td>\n",
       "      <td>33</td>\n",
       "      <td>1</td>\n",
       "      <td>57</td>\n",
       "      <td>0</td>\n",
       "      <td>9</td>\n",
       "      <td>.323</td>\n",
       "      <td>.436</td>\n",
       "      <td>.760</td>\n",
       "      <td>4.61</td>\n",
       "      <td>4.63</td>\n",
       "    </tr>\n",
       "    <tr>\n",
       "      <th>7</th>\n",
       "      <td>8</td>\n",
       "      <td>宮﨑　敏郎</td>\n",
       "      <td>DeNA</td>\n",
       "      <td>.347</td>\n",
       "      <td>75</td>\n",
       "      <td>269</td>\n",
       "      <td>236</td>\n",
       "      <td>82</td>\n",
       "      <td>13</td>\n",
       "      <td>48</td>\n",
       "      <td>...</td>\n",
       "      <td>24</td>\n",
       "      <td>5</td>\n",
       "      <td>26</td>\n",
       "      <td>0</td>\n",
       "      <td>9</td>\n",
       "      <td>.413</td>\n",
       "      <td>.602</td>\n",
       "      <td>1.014</td>\n",
       "      <td>8.68</td>\n",
       "      <td>8.31</td>\n",
       "    </tr>\n",
       "    <tr>\n",
       "      <th>8</th>\n",
       "      <td>9</td>\n",
       "      <td>近藤　健介</td>\n",
       "      <td>ソフトバンク</td>\n",
       "      <td>.289</td>\n",
       "      <td>82</td>\n",
       "      <td>356</td>\n",
       "      <td>287</td>\n",
       "      <td>83</td>\n",
       "      <td>12</td>\n",
       "      <td>49</td>\n",
       "      <td>...</td>\n",
       "      <td>63</td>\n",
       "      <td>2</td>\n",
       "      <td>66</td>\n",
       "      <td>0</td>\n",
       "      <td>5</td>\n",
       "      <td>.416</td>\n",
       "      <td>.484</td>\n",
       "      <td>.900</td>\n",
       "      <td>7.54</td>\n",
       "      <td>7.46</td>\n",
       "    </tr>\n",
       "    <tr>\n",
       "      <th>9</th>\n",
       "      <td>9</td>\n",
       "      <td>細川　成也</td>\n",
       "      <td>中日</td>\n",
       "      <td>.285</td>\n",
       "      <td>81</td>\n",
       "      <td>334</td>\n",
       "      <td>302</td>\n",
       "      <td>86</td>\n",
       "      <td>12</td>\n",
       "      <td>49</td>\n",
       "      <td>...</td>\n",
       "      <td>27</td>\n",
       "      <td>5</td>\n",
       "      <td>100</td>\n",
       "      <td>0</td>\n",
       "      <td>9</td>\n",
       "      <td>.353</td>\n",
       "      <td>.487</td>\n",
       "      <td>.840</td>\n",
       "      <td>5.89</td>\n",
       "      <td>5.65</td>\n",
       "    </tr>\n",
       "  </tbody>\n",
       "</table>\n",
       "<p>10 rows × 21 columns</p>\n",
       "</div>"
      ],
      "text/plain": [
       "  順位    選手名     チーム    打率  試合  打席数   打数  安打 本塁打  打点  ...  四球 死球   三振 犠打 併殺打  \\\n",
       "0  1  岡本　和真      巨人  .297  83  349  296  88  20  51  ...  44  5   64  0   7   \n",
       "1  2  浅村　栄斗      楽天  .271  83  345  306  83  18  50  ...  37  1   62  0   6   \n",
       "2  3  村上　宗隆    ヤクルト  .242  83  351  293  71  16  49  ...  50  5  109  0   2   \n",
       "3  3   牧　秀悟    DeNA  .283  83  350  325  92  16  56  ...  18  4   60  0   9   \n",
       "4  5  万波　中正    日本ハム  .262  83  335  309  81  15  42  ...  19  3   77  2   6   \n",
       "5  6  柳田　悠岐  ソフトバンク  .305  82  357  302  92  14  48  ...  44  8   56  0   4   \n",
       "6  6    オスナ    ヤクルト  .248  83  334  298  74  14  43  ...  33  1   57  0   9   \n",
       "7  8  宮﨑　敏郎    DeNA  .347  75  269  236  82  13  48  ...  24  5   26  0   9   \n",
       "8  9  近藤　健介  ソフトバンク  .289  82  356  287  83  12  49  ...  63  2   66  0   5   \n",
       "9  9  細川　成也      中日  .285  81  334  302  86  12  49  ...  27  5  100  0   9   \n",
       "\n",
       "    出塁率   長打率    OPS  RC27  XR27  \n",
       "0  .393  .557   .950  7.71  7.64  \n",
       "1  .351  .490   .841  6.13  6.09  \n",
       "2  .359  .451   .809  5.81  5.96  \n",
       "3  .326  .498   .824  5.43  5.37  \n",
       "4  .309  .482   .792  5.06  5.01  \n",
       "5  .403  .510   .913  7.85  7.69  \n",
       "6  .323  .436   .760  4.61  4.63  \n",
       "7  .413  .602  1.014  8.68  8.31  \n",
       "8  .416  .484   .900  7.54  7.46  \n",
       "9  .353  .487   .840  5.89  5.65  \n",
       "\n",
       "[10 rows x 21 columns]"
      ]
     },
     "execution_count": 6,
     "metadata": {},
     "output_type": "execute_result"
    }
   ],
   "source": [
    "# データフレーム型に変換\n",
    "df = pd.DataFrame(data = player_data, columns = head_data)\n",
    "df.head(10)"
   ]
  },
  {
   "cell_type": "code",
   "execution_count": 7,
   "id": "62c052f2-124c-4844-b35b-712d20b94794",
   "metadata": {},
   "outputs": [
    {
     "data": {
      "text/plain": [
       "(50, 21)"
      ]
     },
     "execution_count": 7,
     "metadata": {},
     "output_type": "execute_result"
    }
   ],
   "source": [
    "df.shape"
   ]
  },
  {
   "cell_type": "code",
   "execution_count": 8,
   "id": "0c693959-2a49-4d97-abc9-6a1dceccbefe",
   "metadata": {},
   "outputs": [],
   "source": [
    "# CSV出力\n",
    "df.to_csv('2023_playerdata.csv', header=True, index=False)"
   ]
  },
  {
   "cell_type": "code",
   "execution_count": 9,
   "id": "4d2bab84-d3a5-4f68-a7c0-77ccbe68325e",
   "metadata": {},
   "outputs": [],
   "source": [
    "# CSV読み込み\n",
    "df = pd.read_csv('2023_playerdata.csv')"
   ]
  },
  {
   "cell_type": "code",
   "execution_count": 10,
   "id": "f82e12ce-06d6-483a-a7d1-e16adb5ab6d8",
   "metadata": {},
   "outputs": [],
   "source": [
    "# 中日以外の11球団データを抽出\n",
    "df11 = df[df['チーム'] != '中日']\n",
    "# 中日のデータを抽出\n",
    "df_d = df[df['チーム'] == '中日']"
   ]
  },
  {
   "cell_type": "code",
   "execution_count": 11,
   "id": "fa120215-e5a8-414f-96a8-290c49726997",
   "metadata": {},
   "outputs": [
    {
     "data": {
      "text/html": [
       "<div>\n",
       "<style scoped>\n",
       "    .dataframe tbody tr th:only-of-type {\n",
       "        vertical-align: middle;\n",
       "    }\n",
       "\n",
       "    .dataframe tbody tr th {\n",
       "        vertical-align: top;\n",
       "    }\n",
       "\n",
       "    .dataframe thead th {\n",
       "        text-align: right;\n",
       "    }\n",
       "</style>\n",
       "<table border=\"1\" class=\"dataframe\">\n",
       "  <thead>\n",
       "    <tr style=\"text-align: right;\">\n",
       "      <th></th>\n",
       "      <th>本塁打</th>\n",
       "    </tr>\n",
       "  </thead>\n",
       "  <tbody>\n",
       "    <tr>\n",
       "      <th>順位</th>\n",
       "      <td>-0.947158</td>\n",
       "    </tr>\n",
       "    <tr>\n",
       "      <th>打率</th>\n",
       "      <td>0.315091</td>\n",
       "    </tr>\n",
       "    <tr>\n",
       "      <th>試合</th>\n",
       "      <td>0.434703</td>\n",
       "    </tr>\n",
       "    <tr>\n",
       "      <th>打席数</th>\n",
       "      <td>0.513441</td>\n",
       "    </tr>\n",
       "    <tr>\n",
       "      <th>打数</th>\n",
       "      <td>0.483389</td>\n",
       "    </tr>\n",
       "    <tr>\n",
       "      <th>安打</th>\n",
       "      <td>0.534056</td>\n",
       "    </tr>\n",
       "    <tr>\n",
       "      <th>本塁打</th>\n",
       "      <td>1.000000</td>\n",
       "    </tr>\n",
       "    <tr>\n",
       "      <th>打点</th>\n",
       "      <td>0.768631</td>\n",
       "    </tr>\n",
       "    <tr>\n",
       "      <th>盗塁</th>\n",
       "      <td>-0.131752</td>\n",
       "    </tr>\n",
       "    <tr>\n",
       "      <th>四球</th>\n",
       "      <td>0.462147</td>\n",
       "    </tr>\n",
       "    <tr>\n",
       "      <th>死球</th>\n",
       "      <td>0.309601</td>\n",
       "    </tr>\n",
       "    <tr>\n",
       "      <th>三振</th>\n",
       "      <td>0.384818</td>\n",
       "    </tr>\n",
       "    <tr>\n",
       "      <th>犠打</th>\n",
       "      <td>-0.278299</td>\n",
       "    </tr>\n",
       "    <tr>\n",
       "      <th>併殺打</th>\n",
       "      <td>0.152903</td>\n",
       "    </tr>\n",
       "    <tr>\n",
       "      <th>出塁率</th>\n",
       "      <td>0.437967</td>\n",
       "    </tr>\n",
       "    <tr>\n",
       "      <th>長打率</th>\n",
       "      <td>0.658104</td>\n",
       "    </tr>\n",
       "    <tr>\n",
       "      <th>OPS</th>\n",
       "      <td>0.619494</td>\n",
       "    </tr>\n",
       "    <tr>\n",
       "      <th>RC27</th>\n",
       "      <td>0.582736</td>\n",
       "    </tr>\n",
       "    <tr>\n",
       "      <th>XR27</th>\n",
       "      <td>0.601731</td>\n",
       "    </tr>\n",
       "  </tbody>\n",
       "</table>\n",
       "</div>"
      ],
      "text/plain": [
       "           本塁打\n",
       "順位   -0.947158\n",
       "打率    0.315091\n",
       "試合    0.434703\n",
       "打席数   0.513441\n",
       "打数    0.483389\n",
       "安打    0.534056\n",
       "本塁打   1.000000\n",
       "打点    0.768631\n",
       "盗塁   -0.131752\n",
       "四球    0.462147\n",
       "死球    0.309601\n",
       "三振    0.384818\n",
       "犠打   -0.278299\n",
       "併殺打   0.152903\n",
       "出塁率   0.437967\n",
       "長打率   0.658104\n",
       "OPS   0.619494\n",
       "RC27  0.582736\n",
       "XR27  0.601731"
      ]
     },
     "execution_count": 11,
     "metadata": {},
     "output_type": "execute_result"
    }
   ],
   "source": [
    "# 本塁打との相関係数\n",
    "df_homerun = pd.DataFrame(df11.corr()['本塁打'])\n",
    "df_homerun"
   ]
  },
  {
   "cell_type": "code",
   "execution_count": 12,
   "id": "0aad60a5-e2b1-478c-afcf-0b82667021a0",
   "metadata": {},
   "outputs": [
    {
     "data": {
      "image/png": "[encoded data removed]",
      "text/plain": [
       "<Figure size 432x288 with 1 Axes>"
      ]
     },
     "metadata": {
      "needs_background": "light"
     },
     "output_type": "display_data"
    }
   ],
   "source": [
    "# 可視化（相関高い長打率）\n",
    "plt.scatter(x = df11['打席数'], y = df11['本塁打'])\n",
    "plt.show()"
   ]
  },
  {
   "cell_type": "code",
   "execution_count": 13,
   "id": "6a32bec6-bfd2-48d3-91f8-db7053cd9f21",
   "metadata": {},
   "outputs": [
    {
     "data": {
      "image/png": "[encoded data removed]",
      "text/plain": [
       "<Figure size 432x288 with 1 Axes>"
      ]
     },
     "metadata": {
      "needs_background": "light"
     },
     "output_type": "display_data"
    }
   ],
   "source": [
    "# 可視化（相関高い打点）\n",
    "plt.scatter(x = df11['打点'], y = df11['本塁打'])\n",
    "plt.show()"
   ]
  },
  {
   "cell_type": "code",
   "execution_count": 14,
   "id": "94270768-9b58-4888-83fb-6906e42c2973",
   "metadata": {},
   "outputs": [
    {
     "data": {
      "image/png": "[encoded data removed]",
      "text/plain": [
       "<Figure size 432x288 with 1 Axes>"
      ]
     },
     "metadata": {
      "needs_background": "light"
     },
     "output_type": "display_data"
    }
   ],
   "source": [
    "# 可視化（相関低い盗塁）\n",
    "plt.scatter(x = df11['盗塁'], y = df11['本塁打'])\n",
    "plt.show()"
   ]
  },
  {
   "cell_type": "code",
   "execution_count": 15,
   "id": "e2992a55-1706-47db-942d-2bd798c9c931",
   "metadata": {},
   "outputs": [],
   "source": [
    "# 相関係数が0.7以上の項目を抽出\n",
    "x_columns = df_homerun[df_homerun['本塁打'] >= 0.7].index.tolist()\n",
    "# x_columnsに塁打、三塁打、二塁打、単打を渡してみる\n",
    "#x_columns = ['安打', '二塁打', '三塁打', '塁打']\n",
    "# 目的変数を除外\n",
    "x_columns.remove('本塁打')"
   ]
  },
  {
   "cell_type": "code",
   "execution_count": 16,
   "id": "01bbb36f-a0e8-4520-b78b-59d65e16150e",
   "metadata": {},
   "outputs": [
    {
     "data": {
      "text/plain": [
       "['打点']"
      ]
     },
     "execution_count": 16,
     "metadata": {},
     "output_type": "execute_result"
    }
   ],
   "source": [
    "# 相関係数0.7以上の説明変数確認\n",
    "x_columns"
   ]
  },
  {
   "cell_type": "code",
   "execution_count": 17,
   "id": "d0ae331f-1357-400b-a592-b88b0ff48446",
   "metadata": {},
   "outputs": [],
   "source": [
    "# 説明変数と目的変数を定義\n",
    "X = df11[x_columns]\n",
    "y = df11['本塁打']"
   ]
  },
  {
   "cell_type": "markdown",
   "id": "a10c54e7-49b6-4d64-a00a-2872eda4a9b2",
   "metadata": {},
   "source": [
    "モデル作成・評価"
   ]
  },
  {
   "cell_type": "code",
   "execution_count": 18,
   "id": "dea9f1e1-d7d9-421e-90f7-a935a1b623ff",
   "metadata": {},
   "outputs": [
    {
     "data": {
      "text/html": [
       "<style>#sk-container-id-1 {color: black;background-color: white;}#sk-container-id-1 pre{padding: 0;}#sk-container-id-1 div.sk-toggleable {background-color: white;}#sk-container-id-1 label.sk-toggleable__label {cursor: pointer;display: block;width: 100%;margin-bottom: 0;padding: 0.3em;box-sizing: border-box;text-align: center;}#sk-container-id-1 label.sk-toggleable__label-arrow:before {content: \"▸\";float: left;margin-right: 0.25em;color: #696969;}#sk-container-id-1 label.sk-toggleable__label-arrow:hover:before {color: black;}#sk-container-id-1 div.sk-estimator:hover label.sk-toggleable__label-arrow:before {color: black;}#sk-container-id-1 div.sk-toggleable__content {max-height: 0;max-width: 0;overflow: hidden;text-align: left;background-color: #f0f8ff;}#sk-container-id-1 div.sk-toggleable__content pre {margin: 0.2em;color: black;border-radius: 0.25em;background-color: #f0f8ff;}#sk-container-id-1 input.sk-toggleable__control:checked~div.sk-toggleable__content {max-height: 200px;max-width: 100%;overflow: auto;}#sk-container-id-1 input.sk-toggleable__control:checked~label.sk-toggleable__label-arrow:before {content: \"▾\";}#sk-container-id-1 div.sk-estimator input.sk-toggleable__control:checked~label.sk-toggleable__label {background-color: #d4ebff;}#sk-container-id-1 div.sk-label input.sk-toggleable__control:checked~label.sk-toggleable__label {background-color: #d4ebff;}#sk-container-id-1 input.sk-hidden--visually {border: 0;clip: rect(1px 1px 1px 1px);clip: rect(1px, 1px, 1px, 1px);height: 1px;margin: -1px;overflow: hidden;padding: 0;position: absolute;width: 1px;}#sk-container-id-1 div.sk-estimator {font-family: monospace;background-color: #f0f8ff;border: 1px dotted black;border-radius: 0.25em;box-sizing: border-box;margin-bottom: 0.5em;}#sk-container-id-1 div.sk-estimator:hover {background-color: #d4ebff;}#sk-container-id-1 div.sk-parallel-item::after {content: \"\";width: 100%;border-bottom: 1px solid gray;flex-grow: 1;}#sk-container-id-1 div.sk-label:hover label.sk-toggleable__label {background-color: #d4ebff;}#sk-container-id-1 div.sk-serial::before {content: \"\";position: absolute;border-left: 1px solid gray;box-sizing: border-box;top: 0;bottom: 0;left: 50%;z-index: 0;}#sk-container-id-1 div.sk-serial {display: flex;flex-direction: column;align-items: center;background-color: white;padding-right: 0.2em;padding-left: 0.2em;position: relative;}#sk-container-id-1 div.sk-item {position: relative;z-index: 1;}#sk-container-id-1 div.sk-parallel {display: flex;align-items: stretch;justify-content: center;background-color: white;position: relative;}#sk-container-id-1 div.sk-item::before, #sk-container-id-1 div.sk-parallel-item::before {content: \"\";position: absolute;border-left: 1px solid gray;box-sizing: border-box;top: 0;bottom: 0;left: 50%;z-index: -1;}#sk-container-id-1 div.sk-parallel-item {display: flex;flex-direction: column;z-index: 1;position: relative;background-color: white;}#sk-container-id-1 div.sk-parallel-item:first-child::after {align-self: flex-end;width: 50%;}#sk-container-id-1 div.sk-parallel-item:last-child::after {align-self: flex-start;width: 50%;}#sk-container-id-1 div.sk-parallel-item:only-child::after {width: 0;}#sk-container-id-1 div.sk-dashed-wrapped {border: 1px dashed gray;margin: 0 0.4em 0.5em 0.4em;box-sizing: border-box;padding-bottom: 0.4em;background-color: white;}#sk-container-id-1 div.sk-label label {font-family: monospace;font-weight: bold;display: inline-block;line-height: 1.2em;}#sk-container-id-1 div.sk-label-container {text-align: center;}#sk-container-id-1 div.sk-container {/* jupyter's `normalize.less` sets `[hidden] { display: none; }` but bootstrap.min.css set `[hidden] { display: none !important; }` so we also need the `!important` here to be able to override the default hidden behavior on the sphinx rendered scikit-learn.org. See: https://github.com/scikit-learn/scikit-learn/issues/21755 */display: inline-block !important;position: relative;}#sk-container-id-1 div.sk-text-repr-fallback {display: none;}</style><div id=\"sk-container-id-1\" class=\"sk-top-container\"><div class=\"sk-text-repr-fallback\"><pre>LinearRegression()</pre><b>In a Jupyter environment, please rerun this cell to show the HTML representation or trust the notebook. <br />On GitHub, the HTML representation is unable to render, please try loading this page with nbviewer.org.</b></div><div class=\"sk-container\" hidden><div class=\"sk-item\"><div class=\"sk-estimator sk-toggleable\"><input class=\"sk-toggleable__control sk-hidden--visually\" id=\"sk-estimator-id-1\" type=\"checkbox\" checked><label for=\"sk-estimator-id-1\" class=\"sk-toggleable__label sk-toggleable__label-arrow\">LinearRegression</label><div class=\"sk-toggleable__content\"><pre>LinearRegression()</pre></div></div></div></div></div>"
      ],
      "text/plain": [
       "LinearRegression()"
      ]
     },
     "execution_count": 18,
     "metadata": {},
     "output_type": "execute_result"
    }
   ],
   "source": [
    "# データ分割\n",
    "X_train, X_test, y_train, y_test = train_test_split(X, y, random_state = 1)\n",
    "\n",
    "# モデルの学習\n",
    "lr = LR()\n",
    "lr.fit(X_train, y_train)"
   ]
  },
  {
   "cell_type": "code",
   "execution_count": 19,
   "id": "1727cf72-17dc-4a1e-8c23-70bbebf9c4b4",
   "metadata": {},
   "outputs": [
    {
     "data": {
      "text/plain": [
       "array([ 7.82138547,  9.92118542,  6.5090105 ,  9.13376044, 14.12078531,\n",
       "       15.95811026,  9.65871042,  7.03396049,  9.13376044,  7.29643548,\n",
       "       11.23356038,  7.29643548])"
      ]
     },
     "execution_count": 19,
     "metadata": {},
     "output_type": "execute_result"
    }
   ],
   "source": [
    "# 予測値の算出\n",
    "y_pred_test = lr.predict(X_test)\n",
    "y_pred_test"
   ]
  },
  {
   "cell_type": "code",
   "execution_count": 20,
   "id": "f5e6b296-c5a7-4a75-abf2-826db21c51c9",
   "metadata": {},
   "outputs": [
    {
     "data": {
      "text/plain": [
       "4.735791852728673"
      ]
     },
     "execution_count": 20,
     "metadata": {},
     "output_type": "execute_result"
    }
   ],
   "source": [
    "# MSEの算出\n",
    "mse_test = MSE(y_test, y_pred_test)\n",
    "mse_test"
   ]
  },
  {
   "cell_type": "code",
   "execution_count": 21,
   "id": "ea238a18-cf0e-4685-8073-4aab3f3c0500",
   "metadata": {},
   "outputs": [
    {
     "data": {
      "text/plain": [
       "2.17618745808551"
      ]
     },
     "execution_count": 21,
     "metadata": {},
     "output_type": "execute_result"
    }
   ],
   "source": [
    "# RMSEの算出\n",
    "rmse_test = np.sqrt(mse_test)\n",
    "rmse_test"
   ]
  },
  {
   "cell_type": "markdown",
   "id": "244e70c5-60a2-4bb1-8e2e-55aa2d45dbd4",
   "metadata": {},
   "source": [
    "予測"
   ]
  },
  {
   "cell_type": "code",
   "execution_count": 22,
   "id": "43faf0a0-f58f-47f0-9415-7b23da97c256",
   "metadata": {},
   "outputs": [
    {
     "name": "stderr",
     "output_type": "stream",
     "text": [
      "/var/folders/41/791kfl912mbb2ndn2ly5_y240000gn/T/ipykernel_4606/2401879782.py:6: SettingWithCopyWarning: \n",
      "A value is trying to be set on a copy of a slice from a DataFrame.\n",
      "Try using .loc[row_indexer,col_indexer] = value instead\n",
      "\n",
      "See the caveats in the documentation: https://pandas.pydata.org/pandas-docs/stable/user_guide/indexing.html#returning-a-view-versus-a-copy\n",
      "  df_d['予測本塁打'] = np.round(y_pred_d).astype(np.int32)\n"
     ]
    },
    {
     "data": {
      "text/html": [
       "<div>\n",
       "<style scoped>\n",
       "    .dataframe tbody tr th:only-of-type {\n",
       "        vertical-align: middle;\n",
       "    }\n",
       "\n",
       "    .dataframe tbody tr th {\n",
       "        vertical-align: top;\n",
       "    }\n",
       "\n",
       "    .dataframe thead th {\n",
       "        text-align: right;\n",
       "    }\n",
       "</style>\n",
       "<table border=\"1\" class=\"dataframe\">\n",
       "  <thead>\n",
       "    <tr style=\"text-align: right;\">\n",
       "      <th></th>\n",
       "      <th>選手名</th>\n",
       "      <th>本塁打</th>\n",
       "      <th>予測本塁打</th>\n",
       "    </tr>\n",
       "  </thead>\n",
       "  <tbody>\n",
       "    <tr>\n",
       "      <th>9</th>\n",
       "      <td>細川　成也</td>\n",
       "      <td>12</td>\n",
       "      <td>14</td>\n",
       "    </tr>\n",
       "    <tr>\n",
       "      <th>25</th>\n",
       "      <td>石川　昂弥</td>\n",
       "      <td>9</td>\n",
       "      <td>9</td>\n",
       "    </tr>\n",
       "  </tbody>\n",
       "</table>\n",
       "</div>"
      ],
      "text/plain": [
       "      選手名  本塁打  予測本塁打\n",
       "9   細川　成也   12     14\n",
       "25  石川　昂弥    9      9"
      ]
     },
     "execution_count": 22,
     "metadata": {},
     "output_type": "execute_result"
    }
   ],
   "source": [
    "# 中日データ（説明変数）\n",
    "x_d = df_d[x_columns]\n",
    "# 予測本塁打数の算出\n",
    "y_pred_d = lr.predict(x_d)\n",
    "# 予測本塁打列の追加\n",
    "df_d['予測本塁打'] = np.round(y_pred_d).astype(np.int32)\n",
    "# 予測値と実測値との比較\n",
    "df_dd = df_d[['選手名', '本塁打', '予測本塁打']]\n",
    "df_dd = pd.DataFrame(df_dd)\n",
    "df_dd"
   ]
  },
  {
   "cell_type": "code",
   "execution_count": null,
   "id": "f3a34a7c-8dca-4294-8a6a-c7afa94d2758",
   "metadata": {},
   "outputs": [],
   "source": []
  },
  {
   "cell_type": "code",
   "execution_count": null,
   "id": "de5a143d-5873-4438-94ed-d5f9d448ca7f",
   "metadata": {},
   "outputs": [],
   "source": []
  },
  {
   "cell_type": "code",
   "execution_count": null,
   "id": "a2fa42b6-e0b2-428a-8c51-105c47a021d9",
   "metadata": {},
   "outputs": [],
   "source": []
  }
 ],
 "metadata": {
  "kernelspec": {
   "display_name": "Python 3 (ipykernel)",
   "language": "python",
   "name": "python3"
  },
  "language_info": {
   "codemirror_mode": {
    "name": "ipython",
    "version": 3
   },
   "file_extension": ".py",
   "mimetype": "text/x-python",
   "name": "python",
   "nbconvert_exporter": "python",
   "pygments_lexer": "ipython3",
   "version": "3.9.7"
  }
 },
 "nbformat": 4,
 "nbformat_minor": 5
}
