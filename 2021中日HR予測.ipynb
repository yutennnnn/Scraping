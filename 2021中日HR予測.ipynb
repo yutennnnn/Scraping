{
 "cells": [
  {
   "cell_type": "code",
   "execution_count": 1,
   "id": "dd6d78e0-bc73-4d41-9336-2edc0378ce76",
   "metadata": {},
   "outputs": [],
   "source": [
    "# ライブラリ\n",
    "import urllib  #HTMLにアクセス＆取得\n",
    "from bs4 import BeautifulSoup #HTMLからデータ抽出\n",
    "import pandas as pd\n",
    "import numpy as np\n",
    "from sklearn.model_selection import train_test_split\n",
    "from sklearn.linear_model import LinearRegression as LR\n",
    "from sklearn.metrics import mean_squared_error as MSE\n",
    "import matplotlib.pyplot as plt"
   ]
  },
  {
   "cell_type": "code",
   "execution_count": 2,
   "id": "c1bded19-99d7-43b5-897f-b571b2780eb6",
   "metadata": {},
   "outputs": [],
   "source": [
    "# スクレイピング\n",
    "url = 'https://baseball-data.com/21/stats/hitter-all/hr-1.html'\n",
    "html = urllib.request.urlopen(url)\n",
    "soup = BeautifulSoup(html, 'html.parser')"
   ]
  },
  {
   "cell_type": "code",
   "execution_count": 3,
   "id": "e55cf59d-c59e-482b-9062-fbac0dadeac8",
   "metadata": {},
   "outputs": [],
   "source": [
    "table = soup.find_all('table')[0] # HTMLから表部分を全て取得\n",
    "rows = table.find_all('tr') # 表から行データを取得"
   ]
  },
  {
   "cell_type": "code",
   "execution_count": 4,
   "id": "51ccf408-34e0-4f67-9f2b-19034189afe5",
   "metadata": {},
   "outputs": [],
   "source": [
    "# データ格納\n",
    "head_data = []\n",
    "player_data = []\n",
    "\n",
    "for i, row in enumerate(rows):\n",
    "    if i == 0: # 1行目\n",
    "        for headerValue in row.find_all('th'):\n",
    "            head_data.append(headerValue.get_text())\n",
    "    elif (i > 0) and (i + 1 < len(rows)): # 2行目〜最終行未満\n",
    "        player_row = []\n",
    "        for playerValue in row.find_all('td'):\n",
    "            player_row.append(playerValue.get_text())\n",
    "        player_data.append(player_row)"
   ]
  },
  {
   "cell_type": "code",
   "execution_count": 20,
   "id": "754ab747-3ced-47e2-9157-4ec8d7c4baaa",
   "metadata": {},
   "outputs": [
    {
     "data": {
      "text/html": [
       "<div>\n",
       "<style scoped>\n",
       "    .dataframe tbody tr th:only-of-type {\n",
       "        vertical-align: middle;\n",
       "    }\n",
       "\n",
       "    .dataframe tbody tr th {\n",
       "        vertical-align: top;\n",
       "    }\n",
       "\n",
       "    .dataframe thead th {\n",
       "        text-align: right;\n",
       "    }\n",
       "</style>\n",
       "<table border=\"1\" class=\"dataframe\">\n",
       "  <thead>\n",
       "    <tr style=\"text-align: right;\">\n",
       "      <th></th>\n",
       "      <th>順位</th>\n",
       "      <th>選手名</th>\n",
       "      <th>チーム</th>\n",
       "      <th>打率</th>\n",
       "      <th>試合</th>\n",
       "      <th>打席数</th>\n",
       "      <th>打数</th>\n",
       "      <th>安打</th>\n",
       "      <th>本塁打</th>\n",
       "      <th>打点</th>\n",
       "      <th>...</th>\n",
       "      <th>四球</th>\n",
       "      <th>死球</th>\n",
       "      <th>三振</th>\n",
       "      <th>犠打</th>\n",
       "      <th>併殺打</th>\n",
       "      <th>出塁率</th>\n",
       "      <th>長打率</th>\n",
       "      <th>OPS</th>\n",
       "      <th>RC27</th>\n",
       "      <th>XR27</th>\n",
       "    </tr>\n",
       "  </thead>\n",
       "  <tbody>\n",
       "    <tr>\n",
       "      <th>0</th>\n",
       "      <td>1</td>\n",
       "      <td>村上　宗隆</td>\n",
       "      <td>ヤクルト</td>\n",
       "      <td>.278</td>\n",
       "      <td>143</td>\n",
       "      <td>615</td>\n",
       "      <td>500</td>\n",
       "      <td>139</td>\n",
       "      <td>39</td>\n",
       "      <td>112</td>\n",
       "      <td>...</td>\n",
       "      <td>106</td>\n",
       "      <td>6</td>\n",
       "      <td>133</td>\n",
       "      <td>0</td>\n",
       "      <td>12</td>\n",
       "      <td>.408</td>\n",
       "      <td>.566</td>\n",
       "      <td>.974</td>\n",
       "      <td>8.02</td>\n",
       "      <td>7.94</td>\n",
       "    </tr>\n",
       "    <tr>\n",
       "      <th>1</th>\n",
       "      <td>1</td>\n",
       "      <td>岡本　和真</td>\n",
       "      <td>巨人</td>\n",
       "      <td>.265</td>\n",
       "      <td>143</td>\n",
       "      <td>592</td>\n",
       "      <td>521</td>\n",
       "      <td>138</td>\n",
       "      <td>39</td>\n",
       "      <td>113</td>\n",
       "      <td>...</td>\n",
       "      <td>57</td>\n",
       "      <td>7</td>\n",
       "      <td>108</td>\n",
       "      <td>0</td>\n",
       "      <td>16</td>\n",
       "      <td>.341</td>\n",
       "      <td>.530</td>\n",
       "      <td>.871</td>\n",
       "      <td>6.04</td>\n",
       "      <td>6.17</td>\n",
       "    </tr>\n",
       "    <tr>\n",
       "      <th>2</th>\n",
       "      <td>3</td>\n",
       "      <td>鈴木　誠也</td>\n",
       "      <td>広島</td>\n",
       "      <td>.317</td>\n",
       "      <td>132</td>\n",
       "      <td>533</td>\n",
       "      <td>435</td>\n",
       "      <td>138</td>\n",
       "      <td>38</td>\n",
       "      <td>88</td>\n",
       "      <td>...</td>\n",
       "      <td>87</td>\n",
       "      <td>6</td>\n",
       "      <td>88</td>\n",
       "      <td>0</td>\n",
       "      <td>7</td>\n",
       "      <td>.433</td>\n",
       "      <td>.639</td>\n",
       "      <td>1.072</td>\n",
       "      <td>10.03</td>\n",
       "      <td>9.77</td>\n",
       "    </tr>\n",
       "    <tr>\n",
       "      <th>3</th>\n",
       "      <td>4</td>\n",
       "      <td>山田　哲人</td>\n",
       "      <td>ヤクルト</td>\n",
       "      <td>.272</td>\n",
       "      <td>137</td>\n",
       "      <td>581</td>\n",
       "      <td>493</td>\n",
       "      <td>134</td>\n",
       "      <td>34</td>\n",
       "      <td>101</td>\n",
       "      <td>...</td>\n",
       "      <td>76</td>\n",
       "      <td>5</td>\n",
       "      <td>100</td>\n",
       "      <td>0</td>\n",
       "      <td>10</td>\n",
       "      <td>.370</td>\n",
       "      <td>.515</td>\n",
       "      <td>.885</td>\n",
       "      <td>6.71</td>\n",
       "      <td>6.84</td>\n",
       "    </tr>\n",
       "    <tr>\n",
       "      <th>4</th>\n",
       "      <td>5</td>\n",
       "      <td>杉本　裕太郎</td>\n",
       "      <td>オリックス</td>\n",
       "      <td>.301</td>\n",
       "      <td>134</td>\n",
       "      <td>542</td>\n",
       "      <td>478</td>\n",
       "      <td>144</td>\n",
       "      <td>32</td>\n",
       "      <td>83</td>\n",
       "      <td>...</td>\n",
       "      <td>51</td>\n",
       "      <td>10</td>\n",
       "      <td>116</td>\n",
       "      <td>0</td>\n",
       "      <td>15</td>\n",
       "      <td>.378</td>\n",
       "      <td>.552</td>\n",
       "      <td>.931</td>\n",
       "      <td>7.11</td>\n",
       "      <td>7.00</td>\n",
       "    </tr>\n",
       "  </tbody>\n",
       "</table>\n",
       "<p>5 rows × 21 columns</p>\n",
       "</div>"
      ],
      "text/plain": [
       "  順位     選手名    チーム    打率   試合  打席数   打数   安打 本塁打   打点  ...   四球  死球   三振 犠打  \\\n",
       "0  1   村上　宗隆   ヤクルト  .278  143  615  500  139  39  112  ...  106   6  133  0   \n",
       "1  1   岡本　和真     巨人  .265  143  592  521  138  39  113  ...   57   7  108  0   \n",
       "2  3   鈴木　誠也     広島  .317  132  533  435  138  38   88  ...   87   6   88  0   \n",
       "3  4   山田　哲人   ヤクルト  .272  137  581  493  134  34  101  ...   76   5  100  0   \n",
       "4  5  杉本　裕太郎  オリックス  .301  134  542  478  144  32   83  ...   51  10  116  0   \n",
       "\n",
       "  併殺打   出塁率   長打率    OPS   RC27  XR27  \n",
       "0  12  .408  .566   .974   8.02  7.94  \n",
       "1  16  .341  .530   .871   6.04  6.17  \n",
       "2   7  .433  .639  1.072  10.03  9.77  \n",
       "3  10  .370  .515   .885   6.71  6.84  \n",
       "4  15  .378  .552   .931   7.11  7.00  \n",
       "\n",
       "[5 rows x 21 columns]"
      ]
     },
     "execution_count": 20,
     "metadata": {},
     "output_type": "execute_result"
    }
   ],
   "source": [
    "# データフレーム型に変換\n",
    "df = pd.DataFrame(data = player_data, columns = head_data)\n",
    "df.head()"
   ]
  },
  {
   "cell_type": "code",
   "execution_count": 21,
   "id": "62c052f2-124c-4844-b35b-712d20b94794",
   "metadata": {},
   "outputs": [
    {
     "data": {
      "text/plain": [
       "(208, 21)"
      ]
     },
     "execution_count": 21,
     "metadata": {},
     "output_type": "execute_result"
    }
   ],
   "source": [
    "df.shape"
   ]
  },
  {
   "cell_type": "code",
   "execution_count": 6,
   "id": "0c693959-2a49-4d97-abc9-6a1dceccbefe",
   "metadata": {},
   "outputs": [],
   "source": [
    "# CSV出力\n",
    "df.to_csv('playerdata.csv', header=True, index=False)"
   ]
  },
  {
   "cell_type": "code",
   "execution_count": 7,
   "id": "4d2bab84-d3a5-4f68-a7c0-77ccbe68325e",
   "metadata": {},
   "outputs": [],
   "source": [
    "# CSV読み込み\n",
    "df = pd.read_csv('playerdata.csv')"
   ]
  },
  {
   "cell_type": "code",
   "execution_count": 8,
   "id": "f82e12ce-06d6-483a-a7d1-e16adb5ab6d8",
   "metadata": {},
   "outputs": [],
   "source": [
    "# 中日以外の11球団データを抽出\n",
    "df11 = df[df['チーム'] != '中日']\n",
    "# 中日のデータを抽出\n",
    "df_d = df[df['チーム'] == '中日']"
   ]
  },
  {
   "cell_type": "code",
   "execution_count": 9,
   "id": "fa120215-e5a8-414f-96a8-290c49726997",
   "metadata": {},
   "outputs": [
    {
     "data": {
      "text/html": [
       "<div>\n",
       "<style scoped>\n",
       "    .dataframe tbody tr th:only-of-type {\n",
       "        vertical-align: middle;\n",
       "    }\n",
       "\n",
       "    .dataframe tbody tr th {\n",
       "        vertical-align: top;\n",
       "    }\n",
       "\n",
       "    .dataframe thead th {\n",
       "        text-align: right;\n",
       "    }\n",
       "</style>\n",
       "<table border=\"1\" class=\"dataframe\">\n",
       "  <thead>\n",
       "    <tr style=\"text-align: right;\">\n",
       "      <th></th>\n",
       "      <th>本塁打</th>\n",
       "    </tr>\n",
       "  </thead>\n",
       "  <tbody>\n",
       "    <tr>\n",
       "      <th>順位</th>\n",
       "      <td>-0.861999</td>\n",
       "    </tr>\n",
       "    <tr>\n",
       "      <th>打率</th>\n",
       "      <td>0.427335</td>\n",
       "    </tr>\n",
       "    <tr>\n",
       "      <th>試合</th>\n",
       "      <td>0.638588</td>\n",
       "    </tr>\n",
       "    <tr>\n",
       "      <th>打席数</th>\n",
       "      <td>0.716094</td>\n",
       "    </tr>\n",
       "    <tr>\n",
       "      <th>打数</th>\n",
       "      <td>0.706636</td>\n",
       "    </tr>\n",
       "    <tr>\n",
       "      <th>安打</th>\n",
       "      <td>0.711780</td>\n",
       "    </tr>\n",
       "    <tr>\n",
       "      <th>本塁打</th>\n",
       "      <td>1.000000</td>\n",
       "    </tr>\n",
       "    <tr>\n",
       "      <th>打点</th>\n",
       "      <td>0.913095</td>\n",
       "    </tr>\n",
       "    <tr>\n",
       "      <th>盗塁</th>\n",
       "      <td>0.073535</td>\n",
       "    </tr>\n",
       "    <tr>\n",
       "      <th>四球</th>\n",
       "      <td>0.741690</td>\n",
       "    </tr>\n",
       "    <tr>\n",
       "      <th>死球</th>\n",
       "      <td>0.513923</td>\n",
       "    </tr>\n",
       "    <tr>\n",
       "      <th>三振</th>\n",
       "      <td>0.748670</td>\n",
       "    </tr>\n",
       "    <tr>\n",
       "      <th>犠打</th>\n",
       "      <td>-0.194966</td>\n",
       "    </tr>\n",
       "    <tr>\n",
       "      <th>併殺打</th>\n",
       "      <td>0.646873</td>\n",
       "    </tr>\n",
       "    <tr>\n",
       "      <th>出塁率</th>\n",
       "      <td>0.501734</td>\n",
       "    </tr>\n",
       "    <tr>\n",
       "      <th>長打率</th>\n",
       "      <td>0.673260</td>\n",
       "    </tr>\n",
       "    <tr>\n",
       "      <th>OPS</th>\n",
       "      <td>0.646151</td>\n",
       "    </tr>\n",
       "    <tr>\n",
       "      <th>RC27</th>\n",
       "      <td>0.604786</td>\n",
       "    </tr>\n",
       "    <tr>\n",
       "      <th>XR27</th>\n",
       "      <td>0.625136</td>\n",
       "    </tr>\n",
       "  </tbody>\n",
       "</table>\n",
       "</div>"
      ],
      "text/plain": [
       "           本塁打\n",
       "順位   -0.861999\n",
       "打率    0.427335\n",
       "試合    0.638588\n",
       "打席数   0.716094\n",
       "打数    0.706636\n",
       "安打    0.711780\n",
       "本塁打   1.000000\n",
       "打点    0.913095\n",
       "盗塁    0.073535\n",
       "四球    0.741690\n",
       "死球    0.513923\n",
       "三振    0.748670\n",
       "犠打   -0.194966\n",
       "併殺打   0.646873\n",
       "出塁率   0.501734\n",
       "長打率   0.673260\n",
       "OPS   0.646151\n",
       "RC27  0.604786\n",
       "XR27  0.625136"
      ]
     },
     "execution_count": 9,
     "metadata": {},
     "output_type": "execute_result"
    }
   ],
   "source": [
    "# 本塁打との相関係数\n",
    "df_homerun = pd.DataFrame(df11.corr()['本塁打'])\n",
    "df_homerun"
   ]
  },
  {
   "cell_type": "code",
   "execution_count": 10,
   "id": "0aad60a5-e2b1-478c-afcf-0b82667021a0",
   "metadata": {},
   "outputs": [
    {
     "data": {
      "image/png": "[encoded data removed]",
      "text/plain": [
       "<Figure size 432x288 with 1 Axes>"
      ]
     },
     "metadata": {
      "needs_background": "light"
     },
     "output_type": "display_data"
    }
   ],
   "source": [
    "# 可視化（相関高い長打率）\n",
    "plt.scatter(x = df11['打席数'], y = df11['本塁打'])\n",
    "plt.show()"
   ]
  },
  {
   "cell_type": "code",
   "execution_count": 11,
   "id": "6a32bec6-bfd2-48d3-91f8-db7053cd9f21",
   "metadata": {},
   "outputs": [
    {
     "data": {
      "image/png": "[encoded data removed]",
      "text/plain": [
       "<Figure size 432x288 with 1 Axes>"
      ]
     },
     "metadata": {
      "needs_background": "light"
     },
     "output_type": "display_data"
    }
   ],
   "source": [
    "# 可視化（相関高い打点）\n",
    "plt.scatter(x = df11['打点'], y = df11['本塁打'])\n",
    "plt.show()"
   ]
  },
  {
   "cell_type": "code",
   "execution_count": 12,
   "id": "94270768-9b58-4888-83fb-6906e42c2973",
   "metadata": {},
   "outputs": [
    {
     "data": {
      "image/png": "[encoded data removed]",
      "text/plain": [
       "<Figure size 432x288 with 1 Axes>"
      ]
     },
     "metadata": {
      "needs_background": "light"
     },
     "output_type": "display_data"
    }
   ],
   "source": [
    "# 可視化（相関低い盗塁）\n",
    "plt.scatter(x = df11['盗塁'], y = df11['本塁打'])\n",
    "plt.show()"
   ]
  },
  {
   "cell_type": "code",
   "execution_count": 13,
   "id": "e2992a55-1706-47db-942d-2bd798c9c931",
   "metadata": {},
   "outputs": [],
   "source": [
    "# 相関係数が0.7以上の項目を抽出\n",
    "x_columns = df_homerun[df_homerun['本塁打'] >= 0.7].index.tolist()\n",
    "# x_columnsに塁打、三塁打、二塁打、単打を渡してみる\n",
    "#x_columns = ['安打', '二塁打', '三塁打', '塁打']\n",
    "# 目的変数を除外\n",
    "x_columns.remove('本塁打')"
   ]
  },
  {
   "cell_type": "code",
   "execution_count": 14,
   "id": "01bbb36f-a0e8-4520-b78b-59d65e16150e",
   "metadata": {},
   "outputs": [
    {
     "data": {
      "text/plain": [
       "['打席数', '打数', '安打', '打点', '四球', '三振']"
      ]
     },
     "execution_count": 14,
     "metadata": {},
     "output_type": "execute_result"
    }
   ],
   "source": [
    "# 相関係数0.7以上の説明変数確認\n",
    "x_columns"
   ]
  },
  {
   "cell_type": "code",
   "execution_count": 15,
   "id": "d0ae331f-1357-400b-a592-b88b0ff48446",
   "metadata": {},
   "outputs": [],
   "source": [
    "# 説明変数と目的変数を定義\n",
    "X = df11[x_columns]\n",
    "y = df11['本塁打']"
   ]
  },
  {
   "cell_type": "markdown",
   "id": "a10c54e7-49b6-4d64-a00a-2872eda4a9b2",
   "metadata": {},
   "source": [
    "モデル作成・評価"
   ]
  },
  {
   "cell_type": "code",
   "execution_count": 16,
   "id": "dea9f1e1-d7d9-421e-90f7-a935a1b623ff",
   "metadata": {},
   "outputs": [
    {
     "data": {
      "text/html": [
       "<style>#sk-container-id-1 {color: black;background-color: white;}#sk-container-id-1 pre{padding: 0;}#sk-container-id-1 div.sk-toggleable {background-color: white;}#sk-container-id-1 label.sk-toggleable__label {cursor: pointer;display: block;width: 100%;margin-bottom: 0;padding: 0.3em;box-sizing: border-box;text-align: center;}#sk-container-id-1 label.sk-toggleable__label-arrow:before {content: \"▸\";float: left;margin-right: 0.25em;color: #696969;}#sk-container-id-1 label.sk-toggleable__label-arrow:hover:before {color: black;}#sk-container-id-1 div.sk-estimator:hover label.sk-toggleable__label-arrow:before {color: black;}#sk-container-id-1 div.sk-toggleable__content {max-height: 0;max-width: 0;overflow: hidden;text-align: left;background-color: #f0f8ff;}#sk-container-id-1 div.sk-toggleable__content pre {margin: 0.2em;color: black;border-radius: 0.25em;background-color: #f0f8ff;}#sk-container-id-1 input.sk-toggleable__control:checked~div.sk-toggleable__content {max-height: 200px;max-width: 100%;overflow: auto;}#sk-container-id-1 input.sk-toggleable__control:checked~label.sk-toggleable__label-arrow:before {content: \"▾\";}#sk-container-id-1 div.sk-estimator input.sk-toggleable__control:checked~label.sk-toggleable__label {background-color: #d4ebff;}#sk-container-id-1 div.sk-label input.sk-toggleable__control:checked~label.sk-toggleable__label {background-color: #d4ebff;}#sk-container-id-1 input.sk-hidden--visually {border: 0;clip: rect(1px 1px 1px 1px);clip: rect(1px, 1px, 1px, 1px);height: 1px;margin: -1px;overflow: hidden;padding: 0;position: absolute;width: 1px;}#sk-container-id-1 div.sk-estimator {font-family: monospace;background-color: #f0f8ff;border: 1px dotted black;border-radius: 0.25em;box-sizing: border-box;margin-bottom: 0.5em;}#sk-container-id-1 div.sk-estimator:hover {background-color: #d4ebff;}#sk-container-id-1 div.sk-parallel-item::after {content: \"\";width: 100%;border-bottom: 1px solid gray;flex-grow: 1;}#sk-container-id-1 div.sk-label:hover label.sk-toggleable__label {background-color: #d4ebff;}#sk-container-id-1 div.sk-serial::before {content: \"\";position: absolute;border-left: 1px solid gray;box-sizing: border-box;top: 0;bottom: 0;left: 50%;z-index: 0;}#sk-container-id-1 div.sk-serial {display: flex;flex-direction: column;align-items: center;background-color: white;padding-right: 0.2em;padding-left: 0.2em;position: relative;}#sk-container-id-1 div.sk-item {position: relative;z-index: 1;}#sk-container-id-1 div.sk-parallel {display: flex;align-items: stretch;justify-content: center;background-color: white;position: relative;}#sk-container-id-1 div.sk-item::before, #sk-container-id-1 div.sk-parallel-item::before {content: \"\";position: absolute;border-left: 1px solid gray;box-sizing: border-box;top: 0;bottom: 0;left: 50%;z-index: -1;}#sk-container-id-1 div.sk-parallel-item {display: flex;flex-direction: column;z-index: 1;position: relative;background-color: white;}#sk-container-id-1 div.sk-parallel-item:first-child::after {align-self: flex-end;width: 50%;}#sk-container-id-1 div.sk-parallel-item:last-child::after {align-self: flex-start;width: 50%;}#sk-container-id-1 div.sk-parallel-item:only-child::after {width: 0;}#sk-container-id-1 div.sk-dashed-wrapped {border: 1px dashed gray;margin: 0 0.4em 0.5em 0.4em;box-sizing: border-box;padding-bottom: 0.4em;background-color: white;}#sk-container-id-1 div.sk-label label {font-family: monospace;font-weight: bold;display: inline-block;line-height: 1.2em;}#sk-container-id-1 div.sk-label-container {text-align: center;}#sk-container-id-1 div.sk-container {/* jupyter's `normalize.less` sets `[hidden] { display: none; }` but bootstrap.min.css set `[hidden] { display: none !important; }` so we also need the `!important` here to be able to override the default hidden behavior on the sphinx rendered scikit-learn.org. See: https://github.com/scikit-learn/scikit-learn/issues/21755 */display: inline-block !important;position: relative;}#sk-container-id-1 div.sk-text-repr-fallback {display: none;}</style><div id=\"sk-container-id-1\" class=\"sk-top-container\"><div class=\"sk-text-repr-fallback\"><pre>LinearRegression()</pre><b>In a Jupyter environment, please rerun this cell to show the HTML representation or trust the notebook. <br />On GitHub, the HTML representation is unable to render, please try loading this page with nbviewer.org.</b></div><div class=\"sk-container\" hidden><div class=\"sk-item\"><div class=\"sk-estimator sk-toggleable\"><input class=\"sk-toggleable__control sk-hidden--visually\" id=\"sk-estimator-id-1\" type=\"checkbox\" checked><label for=\"sk-estimator-id-1\" class=\"sk-toggleable__label sk-toggleable__label-arrow\">LinearRegression</label><div class=\"sk-toggleable__content\"><pre>LinearRegression()</pre></div></div></div></div></div>"
      ],
      "text/plain": [
       "LinearRegression()"
      ]
     },
     "execution_count": 16,
     "metadata": {},
     "output_type": "execute_result"
    }
   ],
   "source": [
    "# データ分割\n",
    "X_train, X_test, y_train, y_test = train_test_split(X, y, random_state = 1)\n",
    "\n",
    "# モデルの学習\n",
    "lr = LR()\n",
    "lr.fit(X_train, y_train)"
   ]
  },
  {
   "cell_type": "code",
   "execution_count": 17,
   "id": "1727cf72-17dc-4a1e-8c23-70bbebf9c4b4",
   "metadata": {},
   "outputs": [
    {
     "data": {
      "text/plain": [
       "array([15.50869587,  6.91104609,  2.95296692, -0.35937504,  4.35863856,\n",
       "        4.01465987, 13.69350842,  6.17904066,  1.6401536 ,  5.49843677,\n",
       "        8.24929095, 19.92324981,  4.10617934,  0.40640588,  0.65657734,\n",
       "        4.0763156 ,  1.1571679 ,  8.55875036, 24.81233268,  6.58424273,\n",
       "        3.98787473,  1.47137067,  0.65495673,  3.32936076,  7.38247885,\n",
       "        3.9747686 , 18.46023767,  3.78905307, -1.05886236, 11.89479495,\n",
       "       28.915028  ,  2.57167449,  1.5799854 , 20.02984407,  2.700073  ,\n",
       "        3.32199252,  1.77161112,  9.75738607, 16.94307577,  2.07365296,\n",
       "       15.78689318,  3.47232453,  5.53018157, 10.12196861,  6.85293035,\n",
       "        5.08544954, 19.38567632, 29.60475472])"
      ]
     },
     "execution_count": 17,
     "metadata": {},
     "output_type": "execute_result"
    }
   ],
   "source": [
    "# 予測値の算出\n",
    "y_pred_test = lr.predict(X_test)\n",
    "y_pred_test"
   ]
  },
  {
   "cell_type": "code",
   "execution_count": 18,
   "id": "f5e6b296-c5a7-4a75-abf2-826db21c51c9",
   "metadata": {},
   "outputs": [
    {
     "data": {
      "text/plain": [
       "11.045153998554603"
      ]
     },
     "execution_count": 18,
     "metadata": {},
     "output_type": "execute_result"
    }
   ],
   "source": [
    "# MSEの算出\n",
    "mse_test = MSE(y_test, y_pred_test)\n",
    "mse_test"
   ]
  },
  {
   "cell_type": "code",
   "execution_count": 19,
   "id": "ea238a18-cf0e-4685-8073-4aab3f3c0500",
   "metadata": {},
   "outputs": [
    {
     "data": {
      "text/plain": [
       "3.3234250403092593"
      ]
     },
     "execution_count": 19,
     "metadata": {},
     "output_type": "execute_result"
    }
   ],
   "source": [
    "# RMSEの算出\n",
    "rmse_test = np.sqrt(mse_test)\n",
    "rmse_test"
   ]
  },
  {
   "cell_type": "markdown",
   "id": "244e70c5-60a2-4bb1-8e2e-55aa2d45dbd4",
   "metadata": {},
   "source": [
    "予測"
   ]
  },
  {
   "cell_type": "code",
   "execution_count": 22,
   "id": "43faf0a0-f58f-47f0-9415-7b23da97c256",
   "metadata": {},
   "outputs": [
    {
     "name": "stderr",
     "output_type": "stream",
     "text": [
      "/var/folders/41/791kfl912mbb2ndn2ly5_y240000gn/T/ipykernel_8269/2401879782.py:6: SettingWithCopyWarning: \n",
      "A value is trying to be set on a copy of a slice from a DataFrame.\n",
      "Try using .loc[row_indexer,col_indexer] = value instead\n",
      "\n",
      "See the caveats in the documentation: https://pandas.pydata.org/pandas-docs/stable/user_guide/indexing.html#returning-a-view-versus-a-copy\n",
      "  df_d['予測本塁打'] = np.round(y_pred_d).astype(np.int32)\n"
     ]
    },
    {
     "data": {
      "text/html": [
       "<div>\n",
       "<style scoped>\n",
       "    .dataframe tbody tr th:only-of-type {\n",
       "        vertical-align: middle;\n",
       "    }\n",
       "\n",
       "    .dataframe tbody tr th {\n",
       "        vertical-align: top;\n",
       "    }\n",
       "\n",
       "    .dataframe thead th {\n",
       "        text-align: right;\n",
       "    }\n",
       "</style>\n",
       "<table border=\"1\" class=\"dataframe\">\n",
       "  <thead>\n",
       "    <tr style=\"text-align: right;\">\n",
       "      <th></th>\n",
       "      <th>選手名</th>\n",
       "      <th>本塁打</th>\n",
       "      <th>予測本塁打</th>\n",
       "    </tr>\n",
       "  </thead>\n",
       "  <tbody>\n",
       "    <tr>\n",
       "      <th>25</th>\n",
       "      <td>ビシエド</td>\n",
       "      <td>17</td>\n",
       "      <td>17</td>\n",
       "    </tr>\n",
       "    <tr>\n",
       "      <th>42</th>\n",
       "      <td>木下　拓哉</td>\n",
       "      <td>11</td>\n",
       "      <td>11</td>\n",
       "    </tr>\n",
       "    <tr>\n",
       "      <th>63</th>\n",
       "      <td>福田　永将</td>\n",
       "      <td>8</td>\n",
       "      <td>7</td>\n",
       "    </tr>\n",
       "    <tr>\n",
       "      <th>74</th>\n",
       "      <td>高橋　周平</td>\n",
       "      <td>5</td>\n",
       "      <td>8</td>\n",
       "    </tr>\n",
       "    <tr>\n",
       "      <th>82</th>\n",
       "      <td>阿部　寿樹</td>\n",
       "      <td>5</td>\n",
       "      <td>3</td>\n",
       "    </tr>\n",
       "    <tr>\n",
       "      <th>83</th>\n",
       "      <td>堂上　直倫</td>\n",
       "      <td>5</td>\n",
       "      <td>6</td>\n",
       "    </tr>\n",
       "    <tr>\n",
       "      <th>98</th>\n",
       "      <td>福留　孝介</td>\n",
       "      <td>4</td>\n",
       "      <td>6</td>\n",
       "    </tr>\n",
       "    <tr>\n",
       "      <th>113</th>\n",
       "      <td>京田　陽太</td>\n",
       "      <td>3</td>\n",
       "      <td>1</td>\n",
       "    </tr>\n",
       "    <tr>\n",
       "      <th>140</th>\n",
       "      <td>渡辺　勝</td>\n",
       "      <td>2</td>\n",
       "      <td>2</td>\n",
       "    </tr>\n",
       "    <tr>\n",
       "      <th>144</th>\n",
       "      <td>Ａ．マルティネス</td>\n",
       "      <td>2</td>\n",
       "      <td>2</td>\n",
       "    </tr>\n",
       "    <tr>\n",
       "      <th>154</th>\n",
       "      <td>大島　洋平</td>\n",
       "      <td>1</td>\n",
       "      <td>3</td>\n",
       "    </tr>\n",
       "    <tr>\n",
       "      <th>158</th>\n",
       "      <td>根尾　昂</td>\n",
       "      <td>1</td>\n",
       "      <td>5</td>\n",
       "    </tr>\n",
       "    <tr>\n",
       "      <th>162</th>\n",
       "      <td>三ツ俣　大樹</td>\n",
       "      <td>1</td>\n",
       "      <td>1</td>\n",
       "    </tr>\n",
       "    <tr>\n",
       "      <th>164</th>\n",
       "      <td>加藤　翔平</td>\n",
       "      <td>1</td>\n",
       "      <td>-2</td>\n",
       "    </tr>\n",
       "    <tr>\n",
       "      <th>176</th>\n",
       "      <td>桂　依央利</td>\n",
       "      <td>1</td>\n",
       "      <td>2</td>\n",
       "    </tr>\n",
       "    <tr>\n",
       "      <th>181</th>\n",
       "      <td>井領　雅貴</td>\n",
       "      <td>1</td>\n",
       "      <td>0</td>\n",
       "    </tr>\n",
       "    <tr>\n",
       "      <th>194</th>\n",
       "      <td>武田　健吾</td>\n",
       "      <td>1</td>\n",
       "      <td>0</td>\n",
       "    </tr>\n",
       "  </tbody>\n",
       "</table>\n",
       "</div>"
      ],
      "text/plain": [
       "          選手名  本塁打  予測本塁打\n",
       "25       ビシエド   17     17\n",
       "42      木下　拓哉   11     11\n",
       "63      福田　永将    8      7\n",
       "74      高橋　周平    5      8\n",
       "82      阿部　寿樹    5      3\n",
       "83      堂上　直倫    5      6\n",
       "98      福留　孝介    4      6\n",
       "113     京田　陽太    3      1\n",
       "140      渡辺　勝    2      2\n",
       "144  Ａ．マルティネス    2      2\n",
       "154     大島　洋平    1      3\n",
       "158      根尾　昂    1      5\n",
       "162    三ツ俣　大樹    1      1\n",
       "164     加藤　翔平    1     -2\n",
       "176     桂　依央利    1      2\n",
       "181     井領　雅貴    1      0\n",
       "194     武田　健吾    1      0"
      ]
     },
     "execution_count": 22,
     "metadata": {},
     "output_type": "execute_result"
    }
   ],
   "source": [
    "# 中日データ（説明変数）\n",
    "x_d = df_d[x_columns]\n",
    "# 予測本塁打数の算出\n",
    "y_pred_d = lr.predict(x_d)\n",
    "# 予測本塁打列の追加\n",
    "df_d['予測本塁打'] = np.round(y_pred_d).astype(np.int32)\n",
    "# 予測値と実測値との比較\n",
    "df_dd = df_d[['選手名', '本塁打', '予測本塁打']]\n",
    "df_dd = pd.DataFrame(df_dd)\n",
    "df_dd"
   ]
  },
  {
   "cell_type": "code",
   "execution_count": null,
   "id": "f3a34a7c-8dca-4294-8a6a-c7afa94d2758",
   "metadata": {},
   "outputs": [],
   "source": []
  },
  {
   "cell_type": "code",
   "execution_count": null,
   "id": "de5a143d-5873-4438-94ed-d5f9d448ca7f",
   "metadata": {},
   "outputs": [],
   "source": []
  },
  {
   "cell_type": "code",
   "execution_count": null,
   "id": "a2fa42b6-e0b2-428a-8c51-105c47a021d9",
   "metadata": {},
   "outputs": [],
   "source": []
  }
 ],
 "metadata": {
  "kernelspec": {
   "display_name": "Python 3 (ipykernel)",
   "language": "python",
   "name": "python3"
  },
  "language_info": {
   "codemirror_mode": {
    "name": "ipython",
    "version": 3
   },
   "file_extension": ".py",
   "mimetype": "text/x-python",
   "name": "python",
   "nbconvert_exporter": "python",
   "pygments_lexer": "ipython3",
   "version": "3.9.7"
  }
 },
 "nbformat": 4,
 "nbformat_minor": 5
}
